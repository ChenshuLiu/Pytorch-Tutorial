{
  "nbformat": 4,
  "nbformat_minor": 0,
  "metadata": {
    "colab": {
      "provenance": [],
      "machine_shape": "hm",
      "authorship_tag": "ABX9TyP087LFJ60e7v3nhAjyvaiR",
      "include_colab_link": true
    },
    "kernelspec": {
      "name": "python3",
      "display_name": "Python 3"
    },
    "language_info": {
      "name": "python"
    },
    "gpuClass": "standard"
  },
  "cells": [
    {
      "cell_type": "markdown",
      "metadata": {
        "id": "view-in-github",
        "colab_type": "text"
      },
      "source": [
        "<a href=\"https://colab.research.google.com/github/ChenshuLiu/Pytorch-Tutorial/blob/main/Pytorch_Tutorial.ipynb\" target=\"_parent\"><img src=\"https://colab.research.google.com/assets/colab-badge.svg\" alt=\"Open In Colab\"/></a>"
      ]
    },
    {
      "cell_type": "markdown",
      "source": [
        "# Pytorch Tutorial\n",
        "#### Chenshu Liu\n",
        "Reference: https://youtu.be/c36lUUr864M?list=PLw1A_xmFf3RLPk5cKf1PZo6-3E-boYifg "
      ],
      "metadata": {
        "id": "1MCWWUfgt7-d"
      }
    },
    {
      "cell_type": "code",
      "source": [
        "import torch\n",
        "import numpy as np"
      ],
      "metadata": {
        "id": "IyTkiSd-wEaR"
      },
      "execution_count": 3,
      "outputs": []
    },
    {
      "cell_type": "markdown",
      "source": [
        "## Tensors Basics\n",
        "* use `torch.empty(dimension)` to define an empty tensor object"
      ],
      "metadata": {
        "id": "G0mSU-Xwv8EK"
      }
    },
    {
      "cell_type": "code",
      "execution_count": 3,
      "metadata": {
        "colab": {
          "base_uri": "https://localhost:8080/"
        },
        "id": "YZ0XKKHQtiIL",
        "outputId": "8c416c4c-eb1f-4ffd-a579-edbb635c6f37"
      },
      "outputs": [
        {
          "output_type": "stream",
          "name": "stdout",
          "text": [
            "tensor([[8.6337e-34, 0.0000e+00, 3.5032e-44],\n",
            "        [0.0000e+00,        nan, 0.0000e+00]])\n"
          ]
        }
      ],
      "source": [
        "x = torch.empty(2, 3)\n",
        "print(x)"
      ]
    },
    {
      "cell_type": "markdown",
      "source": [
        "* use `torch.rand(dimension)` to define a tensor with random numbers with given dimension"
      ],
      "metadata": {
        "id": "f10af9QrwpZm"
      }
    },
    {
      "cell_type": "code",
      "source": [
        "x = torch.rand(2, 2)\n",
        "print(x)"
      ],
      "metadata": {
        "colab": {
          "base_uri": "https://localhost:8080/"
        },
        "id": "xSrUi-TwwQXk",
        "outputId": "6e02253a-d077-4479-ed1c-c284d6a92e2f"
      },
      "execution_count": 4,
      "outputs": [
        {
          "output_type": "stream",
          "name": "stdout",
          "text": [
            "tensor([[0.1364, 0.7621],\n",
            "        [0.7713, 0.0085]])\n"
          ]
        }
      ]
    },
    {
      "cell_type": "markdown",
      "source": [
        "* use `torch.ones(dimension, dtype)` to define tensor object with ones"
      ],
      "metadata": {
        "id": "XMSi5FDRxIzY"
      }
    },
    {
      "cell_type": "code",
      "source": [
        "x = torch.ones(2, 2, dtype = torch.double)\n",
        "print(x)\n",
        "print(x.dtype)\n",
        "print(x.size())"
      ],
      "metadata": {
        "colab": {
          "base_uri": "https://localhost:8080/"
        },
        "id": "Xr_7MbLOw_86",
        "outputId": "220d7bd1-42a8-415d-cbf3-12e52c453c17"
      },
      "execution_count": 5,
      "outputs": [
        {
          "output_type": "stream",
          "name": "stdout",
          "text": [
            "tensor([[1., 1.],\n",
            "        [1., 1.]], dtype=torch.float64)\n",
            "torch.float64\n",
            "torch.Size([2, 2])\n"
          ]
        }
      ]
    },
    {
      "cell_type": "markdown",
      "source": [
        "* use `torch.tensor([array of values])` to cast array of values into a tensor object"
      ],
      "metadata": {
        "id": "hzVCykIDxuba"
      }
    },
    {
      "cell_type": "code",
      "source": [
        "x = torch.tensor([2.5, 0.1])\n",
        "print(x)"
      ],
      "metadata": {
        "colab": {
          "base_uri": "https://localhost:8080/"
        },
        "id": "aFt2BRxWxQiw",
        "outputId": "38e26519-87c6-449e-9d2a-ba6bdbc05d81"
      },
      "execution_count": 6,
      "outputs": [
        {
          "output_type": "stream",
          "name": "stdout",
          "text": [
            "tensor([2.5000, 0.1000])\n"
          ]
        }
      ]
    },
    {
      "cell_type": "markdown",
      "source": [
        "### Tensor Arithematics\n",
        "* Addition `torch.add(a,b)`\n",
        "* Subtraction `torch.sub(a,b)`\n",
        "* Multiplication `torch.mul(a,b)`\n",
        "* Division `torch.div(a,b)`\n",
        "* For in-place modification, add an underscore `_` behind the operation name (i.e. `a.add_(b)` will add a to b and assigned the sum to a)\n",
        "* Without `_` in the operation, the result need to be assigned to a new object (e.g. `c = a.add(b)`)"
      ],
      "metadata": {
        "id": "EuRP7NWdyNu2"
      }
    },
    {
      "cell_type": "code",
      "source": [
        "x = torch.rand(2, 2)\n",
        "y = torch.rand(2, 2)\n",
        "# elementwise addition\n",
        "z = x + y\n",
        "#  or\n",
        "z = torch.add(x, y)\n",
        "print(x)\n",
        "print(y)\n",
        "print(z)"
      ],
      "metadata": {
        "colab": {
          "base_uri": "https://localhost:8080/"
        },
        "id": "C230CKd6x7Uz",
        "outputId": "2c6ec444-2a66-44df-8f1f-992644c1bf1c"
      },
      "execution_count": 24,
      "outputs": [
        {
          "output_type": "stream",
          "name": "stdout",
          "text": [
            "tensor([[0.6109, 0.4688],\n",
            "        [0.5876, 0.3950]])\n",
            "tensor([[0.5343, 0.4071],\n",
            "        [0.7797, 0.0901]])\n",
            "tensor([[1.1452, 0.8760],\n",
            "        [1.3672, 0.4851]])\n"
          ]
        }
      ]
    },
    {
      "cell_type": "code",
      "source": [
        "z = y.add(x)\n",
        "print(x)\n",
        "print(y)\n",
        "print(z)\n",
        "# in-place modification on y\n",
        "y.add_(x)\n",
        "print(y)"
      ],
      "metadata": {
        "colab": {
          "base_uri": "https://localhost:8080/"
        },
        "id": "5BH_14QCyeg2",
        "outputId": "fad027da-4cf6-4b52-c362-39b743c72342"
      },
      "execution_count": 27,
      "outputs": [
        {
          "output_type": "stream",
          "name": "stdout",
          "text": [
            "tensor([[0.6109, 0.4688],\n",
            "        [0.5876, 0.3950]])\n",
            "tensor([[1.7561, 1.3448],\n",
            "        [1.9548, 0.8800]])\n",
            "tensor([[2.3670, 1.8137],\n",
            "        [2.5424, 1.2750]])\n",
            "tensor([[2.3670, 1.8137],\n",
            "        [2.5424, 1.2750]])\n"
          ]
        }
      ]
    },
    {
      "cell_type": "markdown",
      "source": [
        "### Tensor Slicing"
      ],
      "metadata": {
        "id": "-6YH6WTjzkIG"
      }
    },
    {
      "cell_type": "code",
      "source": [
        "x = torch.rand(3, 3)\n",
        "print(x[1, 1])\n",
        "print(type(x[1, 1]))\n",
        "# extract only value from the position\n",
        "print(x[1, 1].item())\n",
        "print(type(x[1, 1].item()))"
      ],
      "metadata": {
        "colab": {
          "base_uri": "https://localhost:8080/"
        },
        "id": "Pkk0vdwTy0Kx",
        "outputId": "0597acea-b266-4762-d979-1c7ed5ad83ad"
      },
      "execution_count": 14,
      "outputs": [
        {
          "output_type": "stream",
          "name": "stdout",
          "text": [
            "tensor(0.9280)\n",
            "<class 'torch.Tensor'>\n",
            "0.9280080795288086\n",
            "<class 'float'>\n"
          ]
        }
      ]
    },
    {
      "cell_type": "markdown",
      "source": [
        "### Tensor Resizing\n",
        "For unknown dimension, use `-1` and specify the other dimension (works the same in Numpy)"
      ],
      "metadata": {
        "id": "iGyl3oQ81M8w"
      }
    },
    {
      "cell_type": "code",
      "source": [
        "x = torch.rand(4, 4)\n",
        "print(x.shape)\n",
        "# -1 here is just a place-holder\n",
        "y = x.view((-1, 8))\n",
        "print(y.shape)"
      ],
      "metadata": {
        "colab": {
          "base_uri": "https://localhost:8080/"
        },
        "id": "kNaL5Bjg1Yga",
        "outputId": "7c2d27db-cefe-44f7-d05f-4ec3fa5e1d31"
      },
      "execution_count": 23,
      "outputs": [
        {
          "output_type": "stream",
          "name": "stdout",
          "text": [
            "torch.Size([4, 4])\n",
            "torch.Size([2, 8])\n"
          ]
        }
      ]
    },
    {
      "cell_type": "markdown",
      "source": [
        "### Tensor and Numpy\n",
        "The `torch.from_numpy()` function converts numpy array to tensor object, but the change is made in-place (i.e. modifying the numpy array will also modify the converted tensor)"
      ],
      "metadata": {
        "id": "ZtppVs8JTYJU"
      }
    },
    {
      "cell_type": "code",
      "source": [
        "a = np.ones(5)\n",
        "b = torch.from_numpy(a)\n",
        "print(type(a))\n",
        "print(a)\n",
        "print(type(b))\n",
        "print(b)\n",
        "\n",
        "# modify numpy will also alter tensor\n",
        "a += 1\n",
        "print(a)\n",
        "print(b)"
      ],
      "metadata": {
        "colab": {
          "base_uri": "https://localhost:8080/"
        },
        "id": "qLAJFgvB138u",
        "outputId": "887dc1cd-6feb-4ac4-998d-a58f050a3eb4"
      },
      "execution_count": 6,
      "outputs": [
        {
          "output_type": "stream",
          "name": "stdout",
          "text": [
            "<class 'numpy.ndarray'>\n",
            "[1. 1. 1. 1. 1.]\n",
            "<class 'torch.Tensor'>\n",
            "tensor([1., 1., 1., 1., 1.], dtype=torch.float64)\n",
            "[2. 2. 2. 2. 2.]\n",
            "tensor([2., 2., 2., 2., 2.], dtype=torch.float64)\n"
          ]
        }
      ]
    },
    {
      "cell_type": "markdown",
      "source": [
        "# Autograd\n",
        "To calculate gradient for the model, we use the Autograd package"
      ],
      "metadata": {
        "id": "q2ZdVWWgWbhN"
      }
    },
    {
      "cell_type": "code",
      "source": [
        "import torch\n",
        "\n",
        "\n",
        "x = torch.randn(3, requires_grad = True)\n",
        "print(x)\n",
        "\n"
      ],
      "metadata": {
        "id": "pUuBE0ubToFd"
      },
      "execution_count": null,
      "outputs": []
    }
  ]
}